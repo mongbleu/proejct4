{
  "cells": [
    {
      "cell_type": "markdown",
      "metadata": {
        "id": "view-in-github",
        "colab_type": "text"
      },
      "source": [
        "<a href=\"https://colab.research.google.com/github/mongbleu/proejct4/blob/main/220523_efficient.ipynb\" target=\"_parent\"><img src=\"https://colab.research.google.com/assets/colab-badge.svg\" alt=\"Open In Colab\"/></a>"
      ]
    },
    {
      "cell_type": "code",
      "execution_count": null,
      "metadata": {
        "id": "ac6pjwsNYuD-"
      },
      "outputs": [],
      "source": [
        "! pip install IPython"
      ]
    },
    {
      "cell_type": "code",
      "execution_count": null,
      "metadata": {
        "id": "xGLX8mEjuLyi"
      },
      "outputs": [],
      "source": [
        "#! pip install tensorflow==2.9.0"
      ]
    },
    {
      "cell_type": "code",
      "source": [
        "! tensorflow --version"
      ],
      "metadata": {
        "id": "sLL0l947f-dS"
      },
      "execution_count": null,
      "outputs": []
    },
    {
      "cell_type": "code",
      "execution_count": null,
      "metadata": {
        "id": "GArhziRpV6_u"
      },
      "outputs": [],
      "source": [
        "#필요한 모듈 불러오기\n",
        "import tensorflow as tf\n",
        "import numpy as np\n",
        "import os\n",
        "\n",
        "import matplotlib.pyplot as plt\n",
        "from IPython.display import clear_output\n",
        "from PIL import Image\n",
        "from tqdm.auto import trange\n",
        "\n",
        "from keras import layers\n",
        "from tensorflow.keras.utils import load_img, img_to_array"
      ]
    },
    {
      "cell_type": "code",
      "source": [
        "from google.colab import drive\n",
        "\n",
        "drive.mount('/content/drive')"
      ],
      "metadata": {
        "id": "3ya5d_6-uPqB"
      },
      "execution_count": null,
      "outputs": []
    },
    {
      "cell_type": "code",
      "execution_count": null,
      "metadata": {
        "id": "Sec20Q1NeWac"
      },
      "outputs": [],
      "source": [
        "#해당 디렉토리 경로에 있는 파일들의 이름 가져오기\n",
        "root_dir=\"/content/drive/MyDrive/bird-classification/train\""
      ]
    },
    {
      "cell_type": "code",
      "execution_count": null,
      "metadata": {
        "id": "_eFAgL-Ac6Y-"
      },
      "outputs": [],
      "source": [
        "img_path_list = []\n",
        "root = os.walk(root_dir)\n",
        "for image_dir in root:\n",
        "  img_path_list.append(image_dir)"
      ]
    },
    {
      "cell_type": "code",
      "execution_count": null,
      "metadata": {
        "id": "VAEOvLtvuLyk"
      },
      "outputs": [],
      "source": [
        "image_dirs = img_path_list[1:]"
      ]
    },
    {
      "cell_type": "code",
      "source": [
        "len(image_dirs)"
      ],
      "metadata": {
        "id": "EEy1oHVvY4I2"
      },
      "execution_count": null,
      "outputs": []
    },
    {
      "cell_type": "code",
      "execution_count": null,
      "metadata": {
        "id": "-MOdjSA5uLyl"
      },
      "outputs": [],
      "source": [
        "dir_names = img_path_list[0][1]\n",
        "CLASS_NUM = len(dir_names)\n",
        "CLASS_NUM"
      ]
    },
    {
      "cell_type": "markdown",
      "source": [
        "### 데이터 불러오기 2차 시도"
      ],
      "metadata": {
        "id": "eP2gvHLvHe1W"
      }
    },
    {
      "cell_type": "code",
      "execution_count": null,
      "metadata": {
        "id": "_JyYV3P8fQE7"
      },
      "outputs": [],
      "source": [
        "real_path = []\n",
        "for i in range(0, len(image_dirs)):\n",
        "  for j in range(0, len(image_dirs[i][2])):\n",
        "    real_path.append(image_dirs[i][0]+ '/' + image_dirs[i][2][j])"
      ]
    },
    {
      "cell_type": "code",
      "execution_count": null,
      "metadata": {
        "id": "hGzHZJbTjnKk"
      },
      "outputs": [],
      "source": [
        "from tensorflow.keras.preprocessing.image import load_img, img_to_array"
      ]
    },
    {
      "cell_type": "code",
      "execution_count": null,
      "metadata": {
        "id": "u17tzwUJYqLZ"
      },
      "outputs": [],
      "source": [
        "#이미지를 하나 받아 preprocessing하기\n",
        "\n",
        "def load_preprocessing(file_dir):\n",
        "    #Normalization\n",
        "    input_image = Image.open(file_dir)\n",
        "    input_image = img_to_array(input_image)\n",
        "    input_image = tf.cast(input_image, tf.float32) / 255.0 #-1 ~ 1로도 해보기\n",
        "\n",
        "    #resize\n",
        "    input_image = tf.image.resize(input_image, (28, 28))\n",
        "    #input_image = layers.experimental.preprocessing.Resizing(224,224)(input_image)\n",
        "\n",
        "    #print(f'min_max_pixel : {np.min(input_image), np.max(input_image)}')\n",
        "\n",
        "    return input_image"
      ]
    },
    {
      "cell_type": "code",
      "execution_count": null,
      "metadata": {
        "id": "q18Xqcwlj_y4"
      },
      "outputs": [],
      "source": [
        "#change all image into array\n",
        "dataset = np.array([load_preprocessing(image) for image in real_path])"
      ]
    },
    {
      "cell_type": "code",
      "source": [
        "type(dataset)"
      ],
      "metadata": {
        "id": "JQyQtzUrsyfD"
      },
      "execution_count": null,
      "outputs": []
    },
    {
      "cell_type": "code",
      "source": [
        "import tensorflow.keras.backend as K\n",
        "dataset_t = K.constant(dataset)"
      ],
      "metadata": {
        "id": "Q54fR2t16NoO"
      },
      "execution_count": null,
      "outputs": []
    },
    {
      "cell_type": "code",
      "execution_count": null,
      "metadata": {
        "id": "ikKzbCoFliNd"
      },
      "outputs": [],
      "source": [
        "! pip install -q tf-nightly"
      ]
    },
    {
      "cell_type": "code",
      "execution_count": null,
      "metadata": {
        "id": "kmYqJYPHlnMh"
      },
      "outputs": [],
      "source": [
        "#sequential로 선언하는 data augmentation\n",
        "\n",
        "#fildp & rotate\n",
        "def data_augmentation_1(input_image):\n",
        "  input_image = tf.image.filp_left_right(input_image)\n",
        "  input_image = tf.keras.preprocessing.image.random_rotation(input_image,rg=0.4)    \n",
        "  return input_image     \n",
        "\n",
        "#rotate & zoom\n",
        "def data_augmentation_2(input_image):\n",
        "  input_image = tf.keras.preprocessing.image.random_rotation(input_image, rg=0.5),\n",
        "  input_image = tf.keras.preprocessing.image.random_zoom(input_image, 0.3, 0.3)\n",
        "  return input_image\n",
        "\n",
        "#translate & brightness\n",
        "def data_augmentation_3(input_image):\n",
        "  input_image = tf.keras.preprocessing.random_channel_shift(input_image, 100),\n",
        "  input_image = tf.keras.preprocessing.image.random_brightness(input_image, factor=0.3)\n",
        "  return input_image"
      ]
    },
    {
      "cell_type": "code",
      "execution_count": null,
      "metadata": {
        "id": "4d-PsFN1gr_P"
      },
      "outputs": [],
      "source": [
        "#train데이터셋 로드하기, map함수로 로드..?\n",
        "#map funciton : tf.Tensor -> tf.Tensor (pandas apply와 유사)\n",
        "\n",
        "#@tf.funciton (debugging 다 하고 가져오기)\n",
        "def load_train_image(input_image):\n",
        "  #image_augmentation\n",
        "  if tf.random.uniform(()) > 0.5:\n",
        "    input_image = data_augmentation_1(input_image)\n",
        "  elif tf.random.uniform(()) > 0.5:\n",
        "    input_image = data_augmentation_2(input_image)\n",
        "  elif tf.random.uniform(())<0.5:\n",
        "    input_image = data_augmentation_3(input_image)\n",
        "\n",
        "  #normalize\n",
        "  input_image = input_image / 225.0\n",
        "  #input_image = normalize(input_image)\n",
        "  #input_image = layers.experimental.preprocessing.Rescaling(1./255)(input_image)\n",
        "  #input_image = layers.experimental.preprocesisng.Rescaling(1./127.5, offset=-1)(input_image)\n",
        "  return input_image"
      ]
    },
    {
      "cell_type": "code",
      "source": [
        "os.getcwd()"
      ],
      "metadata": {
        "id": "NoQ2J41Z8KSP"
      },
      "execution_count": null,
      "outputs": []
    },
    {
      "cell_type": "markdown",
      "source": [
        "### Dataset 불러오기 2차 시도\n",
        "- generator data augmentation 시도"
      ],
      "metadata": {
        "id": "rttqbV1DA7lC"
      }
    },
    {
      "cell_type": "code",
      "source": [
        "#dataset retry\n",
        "image_generator = tf.keras.preprocessing.image.ImageDataGenerator(validation_split=0.2,\n",
        "                  rescale = 1./255)\n",
        "\n",
        "train_data_gen = image_generator.flow_from_directory(\n",
        "  root_dir,\n",
        "  subset='training',\n",
        "  target_size=(244,244),\n",
        "  batch_size=256,\n",
        "  class_mode='sparse',\n",
        "  seed=123)\n",
        "\n",
        "test_data_gen = image_generator.flow_from_directory(\n",
        "    root_dir,\n",
        "    subset='validation',\n",
        "    target_size=(244,244),\n",
        "    class_mode='sparse',\n",
        "    batch_size=256,\n",
        "    seed=123)"
      ],
      "metadata": {
        "id": "ANg1Udfq7y-N"
      },
      "execution_count": null,
      "outputs": []
    },
    {
      "cell_type": "code",
      "source": [
        "len(train_data_gen)"
      ],
      "metadata": {
        "id": "JKmzIRyQInOY"
      },
      "execution_count": null,
      "outputs": []
    },
    {
      "cell_type": "code",
      "source": [
        "#for image_batch in train_data_gen:\n",
        "  #print(image_batch.shape)\n",
        "  #break"
      ],
      "metadata": {
        "id": "tM6WVIoB-572"
      },
      "execution_count": null,
      "outputs": []
    },
    {
      "cell_type": "code",
      "source": [
        "#norm_ds = train_ds.map(lambda x : \n",
        "                      # (tf.keras.layers.experimental.preprocessing.Rescaling(1./255)(x)))\n",
        "#image_batch = next(iter(norm_ds))"
      ],
      "metadata": {
        "id": "4w-2GJIn_Ire"
      },
      "execution_count": null,
      "outputs": []
    },
    {
      "cell_type": "code",
      "source": [
        "first_image = image_batch[0]\n",
        "np.min(first_image), np.max(first_image)"
      ],
      "metadata": {
        "id": "SZyGiSGn_hrs"
      },
      "execution_count": null,
      "outputs": []
    },
    {
      "cell_type": "code",
      "execution_count": null,
      "metadata": {
        "id": "orgrxdzr38JW"
      },
      "outputs": [],
      "source": [
        "#label 만들기 : train/test/val의 class가 모두 다른 것을 발견..!\n",
        "#train label\n",
        "#dataset_labels = [dir.split('/')[6] for dir in real_path]"
      ]
    },
    {
      "cell_type": "code",
      "execution_count": null,
      "metadata": {
        "id": "WkqAmfxpuLyt"
      },
      "outputs": [],
      "source": [
        "#len(set(dataset_labels))"
      ]
    },
    {
      "cell_type": "code",
      "execution_count": null,
      "metadata": {
        "id": "k6e5iBQLuLyt"
      },
      "outputs": [],
      "source": [
        "#label encoding\n",
        "\"\"\"from sklearn.preprocessing import LabelEncoder\n",
        "\n",
        "label_encoder = LabelEncoder()\n",
        "label_encoder.fit_transform(dataset_labels)\n",
        "print(f'label_num : {len(label_encoder.classes_)}')\n",
        "label_encoder.classes_\"\"\""
      ]
    },
    {
      "cell_type": "code",
      "execution_count": null,
      "metadata": {
        "id": "3u1dqWAquLyt"
      },
      "outputs": [],
      "source": [
        "\"\"\"label_encoder.transform(dataset_labels)\"\"\""
      ]
    },
    {
      "cell_type": "code",
      "execution_count": null,
      "metadata": {
        "id": "sczhAxmIuLyt"
      },
      "outputs": [],
      "source": [
        "\"\"\"#train-test split\n",
        "from sklearn.model_selection import train_test_split\n",
        "\n",
        "x_train, x_test, y_train, y_test = train_test_split(train_ds, dataset_labels, test_size=0.2, random_state=42)\"\"\""
      ]
    },
    {
      "cell_type": "code",
      "execution_count": null,
      "metadata": {
        "id": "FEvzMvhyuLyu"
      },
      "outputs": [],
      "source": [
        "\"\"\"len(x_train), len(x_test), len(y_train), len(y_test)\"\"\""
      ]
    },
    {
      "cell_type": "markdown",
      "metadata": {
        "id": "WN0_eHjd1xpb"
      },
      "source": [
        "## 모델 만들기"
      ]
    },
    {
      "cell_type": "markdown",
      "source": [
        "###최적화"
      ],
      "metadata": {
        "id": "Oaj3xEFqTMHG"
      }
    },
    {
      "cell_type": "code",
      "source": [
        "from tensorflow.keras.regularizers import l1, l2"
      ],
      "metadata": {
        "id": "Qab161GRTQWS"
      },
      "execution_count": null,
      "outputs": []
    },
    {
      "cell_type": "code",
      "source": [
        "#early stopping\n",
        "\n",
        "#파라미터 저장경로\n",
        "checkpoint_filepath = 'FMbest.hdf5' #FMbest는 이름, hdf5는 확장자명\n",
        "\n",
        "early_stop = tf.keras.callbacks.EarlyStopping(monitor='val_loss', min_delta=0, patience=5, verbose=1)\n",
        "\n",
        "save_best = tf.keras.callbacks.ModelCheckpoint(\n",
        "    filepath=checkpoint_filepath, monitor='val_loss', verbose=1, save_best_only=True,\n",
        "    save_weights_only=True, mode='auto', save_freq='epoch', options=None)"
      ],
      "metadata": {
        "id": "9wwWdSFzTkvz"
      },
      "execution_count": null,
      "outputs": []
    },
    {
      "cell_type": "markdown",
      "source": [
        "### 데이터 준비"
      ],
      "metadata": {
        "id": "CvSNnYEgtr_B"
      }
    },
    {
      "cell_type": "code",
      "execution_count": null,
      "metadata": {
        "id": "knQ0D_xkuLyv"
      },
      "outputs": [],
      "source": [
        "from keras import Sequential\n",
        "from keras import layers\n",
        "from tensorflow.keras.applications import EfficientNetB0, EfficientNetB4, EfficientNetB7\n",
        "from tensorflow.keras.applications import ResNet50"
      ]
    },
    {
      "cell_type": "code",
      "execution_count": null,
      "metadata": {
        "id": "8wSx5AxGuLyv"
      },
      "outputs": [],
      "source": [
        "np.random.seed(42)\n",
        "tf.random.set_seed(42)"
      ]
    },
    {
      "cell_type": "code",
      "execution_count": null,
      "metadata": {
        "id": "uzF7FxLD1w9S"
      },
      "outputs": [],
      "source": [
        "#CLASS_NUM\n",
        "TRAIN_LENGTH = 23309\n",
        "BATCH_SIZE = 256\n",
        "BUFFER_SIZE = 23309\n",
        "STEPS_PER_EPOCH = TRAIN_LENGTH // BATCH_SIZE #버림으로 계산"
      ]
    },
    {
      "cell_type": "code",
      "execution_count": null,
      "metadata": {
        "id": "zC2O8IdZuLyv"
      },
      "outputs": [],
      "source": [
        "\"\"\"#데이터 섞기 : x, y를 같이 섞어야함..!ㅠ\n",
        "#cache() : 데이터셋을 메모리 또는 로컬 저장소에 캐시. 각 에포크 동안 실행되는 일부 작업이 저장된다\n",
        "x_train = x_train.cache().shuffle().shuffle(BUFFER_SIZE).batch(BATCH_SIZE).repeat()\n",
        "#연산에 필요한 함수를 미리가져오는 함수 / #데이터를 담는 그릇의 크기를 동적으로 조정한다\n",
        "x_train = x_train.prefetch(buffer_size=tf.data.experimental.AUTOTUNE)\n",
        "x_test = x_test.bath(BATCH_SIZE)\"\"\""
      ]
    },
    {
      "cell_type": "markdown",
      "source": [
        "### ResNet50"
      ],
      "metadata": {
        "id": "rY2dldAftlo8"
      }
    },
    {
      "cell_type": "code",
      "execution_count": null,
      "metadata": {
        "id": "bqPcWRe1uLyw"
      },
      "outputs": [],
      "source": [
        "#Resnet basic\n",
        "#input따로 만들기\n",
        "input = layers.Input(shape=(244, 244, 3))\n",
        "model = ResNet50(\n",
        "    include_top=False,\n",
        "    weights = 'imagenet',\n",
        "    input_shape = (244,244,3)\n",
        ")\n",
        "\n",
        "model.trainable = False\n",
        "\n",
        "#output\n",
        "output = model(input)\n",
        "output = layers.GlobalAveragePooling2D()(output)\n",
        "output = layers.Dense(units=128, activation='relu')(output)\n",
        "output = layers.Dense(units=CLASS_NUM, activation='softmax')(output)\n",
        "\n",
        "#compile\n",
        "model_resnet50 = tf.keras.Model(inputs=input, outputs=output)\n",
        "model_resnet50.compile(optimizer='adam', loss='sparse_categorical_crossentropy', metrics=['accuracy'])\n",
        "model_resnet50.summary()"
      ]
    },
    {
      "cell_type": "code",
      "source": [
        "model_resnet50.fit(train_data_gen, batch_size=BATCH_SIZE, epochs=10, \n",
        "          validation_data=0.2, callbacks=[early_stop, save_best])"
      ],
      "metadata": {
        "id": "VXNsVqBu3cCD"
      },
      "execution_count": null,
      "outputs": []
    },
    {
      "cell_type": "code",
      "source": [
        "score, acc = model.evaluate(test_data_gen, batch_size=BATCH_SIZE, epochs=10)\n",
        "print(f'test_score : {score}\\ntest_accuracy : {acc}')"
      ],
      "metadata": {
        "id": "KqI5lDt74aHj"
      },
      "execution_count": null,
      "outputs": []
    },
    {
      "cell_type": "markdown",
      "source": [
        "### Efficient model"
      ],
      "metadata": {
        "id": "21VDsPnntuiv"
      }
    },
    {
      "cell_type": "code",
      "source": [
        "#efficient 모델 : 출력층만 다시 설계 (early stopping 빼고 아무런 최적화방법 사용하지 않음)\n",
        "\n",
        "#input\n",
        "input = layers.Input(shape=(244, 244,3))\n",
        "#출력층 다시 만들기\n",
        "efficient = EfficientNetB0(include_top=False,input_tensor=input, weights='imagenet')(input)\n",
        "efficient.trainable = False\n",
        "output = efficient(input)\n",
        "output = layers.GlobalAveragePooling2D ()(output)\n",
        "output = layers.Dense(units=128, activation='relu')(output)\n",
        "output = layers.Dense(units=CLASS_NUM, activation='softmax')(output)\n",
        "\n",
        "#compile\n",
        "model_eff_base = tf.keras.Model(inpust=input, outputs=output)"
      ],
      "metadata": {
        "id": "boSVCBg2ROI_"
      },
      "execution_count": null,
      "outputs": []
    },
    {
      "cell_type": "code",
      "source": [
        "#efficientnetbo : input(244,244,3) - 출력층만 다시 설계\n",
        "#input 만들기\n",
        "input = tf.keras.layers.Input(shape=(244, 244, 3)) #model_effbo_no.input\n",
        "\n",
        "#output만들기\n",
        "effb0_2 = EfficientNetB0(include_top=False, input_tensor=input, weights='imagenet')\n",
        "effb0_2.trainable = False\n",
        "\n",
        "output = Sequential()\n",
        "output.add(layers.GlobalAveragePooling2D())\n",
        "output.add(layers.BatchNormalization())\n",
        "output.add(layers.Dropout(rate=0.3, seed=42))\n",
        "output.add(layers.Dense(units=32, kernel_regularizer=l1(0.01), activity_regularizer=l1(0.01), activation='relu'))\n",
        "output.add(layers.Dropout(rate=0.3))\n",
        "output.add(layers.Dense(units=CLASS_NUM, activation='softmax'))\n",
        "\n",
        "#model\n",
        "model_effb0_2 = tf.keras.Model(inputs=input, outputs=output)\n",
        "model_effb0_2.compile(optimizer=tf.keras.optimizers.Adam(learning_rate=1e-6, beta_1=0.89), \n",
        "                      loss='sparse_categorical_crossentropy', mertrics=['accuracy'])"
      ],
      "metadata": {
        "id": "M_41wg3eNF5_"
      },
      "execution_count": null,
      "outputs": []
    },
    {
      "cell_type": "code",
      "source": [
        "model_effb0_2.summary()"
      ],
      "metadata": {
        "id": "eYJpVRPD22-z"
      },
      "execution_count": null,
      "outputs": []
    },
    {
      "cell_type": "code",
      "source": [
        "plot_model(model_effb0_2)"
      ],
      "metadata": {
        "id": "O-jfQNy-2-Fk"
      },
      "execution_count": null,
      "outputs": []
    },
    {
      "cell_type": "code",
      "source": [
        "#efficientnetb0 : fitting\n",
        "model.fit(train_data_gen, batch_size=BATCH_SIZE, epochs=10, verbose=1,\n",
        "          validation_split=0.2, callbacks=[early_stop, save_best])"
      ],
      "metadata": {
        "id": "Ekf8KqFcZsFx"
      },
      "execution_count": null,
      "outputs": []
    },
    {
      "cell_type": "code",
      "source": [
        "#evaluate\n",
        "score, acc = model.evaluate(test_data_gen, batch_size=BATCH_SIZE, epochs=10, verbose=1)\n",
        "print(f'test_score : {score}\\ntest_accuracy : {acc}')"
      ],
      "metadata": {
        "id": "InOR4T9m2lGc"
      },
      "execution_count": null,
      "outputs": []
    },
    {
      "cell_type": "code",
      "source": [
        "#efficientnetB4 : input_shape(380,380, 3)"
      ],
      "metadata": {
        "id": "PiimkolGNWOZ"
      },
      "execution_count": null,
      "outputs": []
    },
    {
      "cell_type": "code",
      "source": [
        "#efficientnetB7 : input_shape(600, 600, 3)"
      ],
      "metadata": {
        "id": "w2GAJCpSNawN"
      },
      "execution_count": null,
      "outputs": []
    }
  ],
  "metadata": {
    "colab": {
      "name": "220523_efficient.ipynb",
      "private_outputs": true,
      "provenance": [],
      "collapsed_sections": [],
      "include_colab_link": true
    },
    "kernelspec": {
      "display_name": "Python 3 (ipykernel)",
      "language": "python",
      "name": "python3"
    },
    "language_info": {
      "codemirror_mode": {
        "name": "ipython",
        "version": 3
      },
      "file_extension": ".py",
      "mimetype": "text/x-python",
      "name": "python",
      "nbconvert_exporter": "python",
      "pygments_lexer": "ipython3",
      "version": "3.9.7"
    }
  },
  "nbformat": 4,
  "nbformat_minor": 0
}